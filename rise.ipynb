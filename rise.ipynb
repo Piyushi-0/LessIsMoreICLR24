{
 "cells": [
  {
   "cell_type": "code",
   "execution_count": 5,
   "metadata": {},
   "outputs": [],
   "source": [
    "import cv2\n",
    "import math\n",
    "import numpy as np\n",
    "\n",
    "import matplotlib.pyplot as plt"
   ]
  },
  {
   "cell_type": "code",
   "execution_count": 2,
   "metadata": {},
   "outputs": [],
   "source": [
    "def generate_mask(image_size, grid_size, prob_thresh):\n",
    "    image_w, image_h = image_size\n",
    "    grid_w, grid_h = grid_size\n",
    "    cell_w, cell_h = math.ceil(image_w / grid_w), math.ceil(image_h / grid_h)\n",
    "    up_w, up_h = (grid_w + 1) * cell_w, (grid_h + 1) * cell_h\n",
    "\n",
    "    mask = (np.random.uniform(0, 1, size=(grid_h, grid_w)) <\n",
    "            prob_thresh).astype(np.float32)\n",
    "    mask = cv2.resize(mask, (up_w, up_h), interpolation=cv2.INTER_LINEAR)\n",
    "    offset_w = np.random.randint(0, cell_w)\n",
    "    offset_h = np.random.randint(0, cell_h)\n",
    "    mask = mask[offset_h:offset_h + image_h, offset_w:offset_w + image_w]\n",
    "    return mask"
   ]
  },
  {
   "cell_type": "code",
   "execution_count": 3,
   "metadata": {},
   "outputs": [],
   "source": [
    "def mask_image(image, mask):\n",
    "    masked = ((image.astype(np.float32) / 255 * np.dstack([mask] * 3)) *\n",
    "              255).astype(np.uint8)\n",
    "    return masked"
   ]
  },
  {
   "cell_type": "code",
   "execution_count": 9,
   "metadata": {},
   "outputs": [],
   "source": [
    "image = cv2.imread(\"assets/1.png\")\n",
    "image_h, image_w = image.shape[:2]\n",
    "\n",
    "for i in range(4):\n",
    "    mask = generate_mask(image_size=(image_w, image_h),\n",
    "                            grid_size=(8, 8),\n",
    "                            prob_thresh=0.5)\n",
    "    masked = mask_image(image, mask)\n",
    "\n",
    "    cv2.imwrite(str(i)+\".jpg\", masked)"
   ]
  },
  {
   "cell_type": "code",
   "execution_count": null,
   "metadata": {},
   "outputs": [],
   "source": []
  }
 ],
 "metadata": {
  "kernelspec": {
   "display_name": "hsic",
   "language": "python",
   "name": "python3"
  },
  "language_info": {
   "codemirror_mode": {
    "name": "ipython",
    "version": 3
   },
   "file_extension": ".py",
   "mimetype": "text/x-python",
   "name": "python",
   "nbconvert_exporter": "python",
   "pygments_lexer": "ipython3",
   "version": "3.9.15"
  },
  "orig_nbformat": 4,
  "vscode": {
   "interpreter": {
    "hash": "0da19069e2cffad712c3281bdac01e96375a4a42486c79ed2d80d1eb02b7f5aa"
   }
  }
 },
 "nbformat": 4,
 "nbformat_minor": 2
}
